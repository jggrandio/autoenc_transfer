{
 "cells": [
  {
   "cell_type": "markdown",
   "metadata": {},
   "source": [
    "## Preprocessing the data"
   ]
  },
  {
   "cell_type": "code",
   "execution_count": null,
   "metadata": {},
   "outputs": [],
   "source": [
    "import tensorflow as tf\n",
    "from matplotlib import pyplot as plt\n",
    "import numpy as np\n",
    "from sklearn.model_selection import train_test_split\n",
    "\n",
    "(train_data, train_labels), (test_data, test_labels) = tf.keras.datasets.mnist.load_data()\n",
    "\n",
    "# Normalizing the images to the range of [0., 1.]\n",
    "train_data = train_data/255.\n",
    "test_data = test_data/255.\n",
    "\n",
    "train_data = train_data.reshape(-1, 28,28, 1)\n",
    "test_data = test_data.reshape(-1, 28,28, 1)"
   ]
  },
  {
   "cell_type": "code",
   "execution_count": 28,
   "metadata": {},
   "outputs": [
    {
     "data": {
      "text/plain": [
       "'TRAIN_BUF = 60000\\nBATCH_SIZE = 100\\n\\nTEST_BUF = 10000\\n\\ntrain_dataset = tf.data.Dataset.from_tensor_slices(train_images).shuffle(TRAIN_BUF).batch(BATCH_SIZE)\\ntest_dataset = tf.data.Dataset.from_tensor_slices(test_images).shuffle(TEST_BUF).batch(BATCH_SIZE)'"
      ]
     },
     "execution_count": 28,
     "metadata": {},
     "output_type": "execute_result"
    }
   ],
   "source": [
    "'''TRAIN_BUF = 60000\n",
    "BATCH_SIZE = 100\n",
    "\n",
    "TEST_BUF = 10000\n",
    "\n",
    "train_dataset = tf.data.Dataset.from_tensor_slices(train_images).shuffle(TRAIN_BUF).batch(BATCH_SIZE)\n",
    "test_dataset = tf.data.Dataset.from_tensor_slices(test_images).shuffle(TEST_BUF).batch(BATCH_SIZE)'''"
   ]
  },
  {
   "cell_type": "code",
   "execution_count": 29,
   "metadata": {},
   "outputs": [
    {
     "name": "stdout",
     "output_type": "stream",
     "text": [
      "Training set (images) shape: (60000, 28, 28, 1)\n",
      "Test set (images) shape: (10000, 28, 28, 1)\n"
     ]
    },
    {
     "data": {
      "text/plain": [
       "Text(0.5, 1.0, '(Label: 0)')"
      ]
     },
     "execution_count": 29,
     "metadata": {},
     "output_type": "execute_result"
    },
    {
     "data": {
      "image/png": "[encoded data removed]",
      "text/plain": [
       "<Figure size 360x360 with 2 Axes>"
      ]
     },
     "metadata": {
      "needs_background": "light"
     },
     "output_type": "display_data"
    }
   ],
   "source": [
    "print(\"Training set (images) shape: {shape}\".format(shape=train_data.shape))\n",
    "print(\"Test set (images) shape: {shape}\".format(shape=test_data.shape))\n",
    "plt.figure(figsize=[5,5])\n",
    "\n",
    "# Display the first image in training data\n",
    "plt.subplot(121)\n",
    "curr_img = np.reshape(train_data[10], (28,28))\n",
    "curr_lbl = train_labels[10]\n",
    "plt.imshow(curr_img, cmap='gray')\n",
    "plt.title(\"(Label: \" + str(curr_lbl) + \")\")\n",
    "\n",
    "# Display the first image in testing data\n",
    "plt.subplot(122)\n",
    "curr_img = np.reshape(test_data[10], (28,28))\n",
    "curr_lbl = test_labels[10]\n",
    "plt.imshow(curr_img, cmap='gray')\n",
    "plt.title(\"(Label: \" + str(curr_lbl) + \")\")"
   ]
  },
  {
   "cell_type": "code",
   "execution_count": 30,
   "metadata": {},
   "outputs": [],
   "source": [
    "train_X,valid_X,train_ground,valid_ground = train_test_split(train_data,\n",
    "                                                             train_data,\n",
    "                                                             test_size=0.2,\n",
    "                                                             random_state=13)"
   ]
  },
  {
   "cell_type": "markdown",
   "metadata": {},
   "source": [
    "## Creating Autoencoder"
   ]
  },
  {
   "cell_type": "code",
   "execution_count": 31,
   "metadata": {},
   "outputs": [],
   "source": [
    "batch_size = 128\n",
    "epochs = 50\n",
    "inChannel = 1\n",
    "x, y = 28, 28\n",
    "num_classes = 10"
   ]
  },
  {
   "cell_type": "code",
   "execution_count": 32,
   "metadata": {},
   "outputs": [],
   "source": [
    "def gen_autoencoder():\n",
    "    autoencoder = tf.keras.Sequential([\n",
    "        tf.keras.layers.InputLayer(input_shape=(28, 28, 1)),\n",
    "        tf.keras.layers.Conv2D(32, (3, 3), activation='relu', padding='same'),\n",
    "        tf.keras.layers.MaxPooling2D(pool_size=(2, 2)),\n",
    "        tf.keras.layers.Conv2D(64, (3, 3), activation='relu', padding='same'),\n",
    "        tf.keras.layers.MaxPooling2D(pool_size=(2, 2)),\n",
    "        tf.keras.layers.Conv2D(128, (3, 3), activation='relu', padding='same'),\n",
    "        \n",
    "        #here comes the decoder\n",
    "        tf.keras.layers.Conv2D(128, (3, 3), activation='relu', padding='same'),\n",
    "        tf.keras.layers.UpSampling2D((2,2)),\n",
    "        tf.keras.layers.Conv2D(64, (3, 3), activation='relu', padding='same'),\n",
    "        tf.keras.layers.UpSampling2D((2,2)),\n",
    "        tf.keras.layers.Conv2D(1, (3, 3), activation='relu', padding='same'),\n",
    "    ])\n",
    "    autoencoder.compile(loss='mean_squared_error', optimizer = tf.keras.optimizers.RMSprop())\n",
    "    return autoencoder\n"
   ]
  },
  {
   "cell_type": "markdown",
   "metadata": {},
   "source": [
    "## Training"
   ]
  },
  {
   "cell_type": "code",
   "execution_count": 33,
   "metadata": {},
   "outputs": [
    {
     "name": "stdout",
     "output_type": "stream",
     "text": [
      "Model: \"sequential_4\"\n",
      "_________________________________________________________________\n",
      "Layer (type)                 Output Shape              Param #   \n",
      "=================================================================\n",
      "conv2d_24 (Conv2D)           (None, 28, 28, 32)        320       \n",
      "_________________________________________________________________\n",
      "max_pooling2d_8 (MaxPooling2 (None, 14, 14, 32)        0         \n",
      "_________________________________________________________________\n",
      "conv2d_25 (Conv2D)           (None, 14, 14, 64)        18496     \n",
      "_________________________________________________________________\n",
      "max_pooling2d_9 (MaxPooling2 (None, 7, 7, 64)          0         \n",
      "_________________________________________________________________\n",
      "conv2d_26 (Conv2D)           (None, 7, 7, 128)         73856     \n",
      "_________________________________________________________________\n",
      "conv2d_27 (Conv2D)           (None, 7, 7, 128)         147584    \n",
      "_________________________________________________________________\n",
      "up_sampling2d_8 (UpSampling2 (None, 14, 14, 128)       0         \n",
      "_________________________________________________________________\n",
      "conv2d_28 (Conv2D)           (None, 14, 14, 64)        73792     \n",
      "_________________________________________________________________\n",
      "up_sampling2d_9 (UpSampling2 (None, 28, 28, 64)        0         \n",
      "_________________________________________________________________\n",
      "conv2d_29 (Conv2D)           (None, 28, 28, 1)         577       \n",
      "=================================================================\n",
      "Total params: 314,625\n",
      "Trainable params: 314,625\n",
      "Non-trainable params: 0\n",
      "_________________________________________________________________\n",
      "Train on 48000 samples, validate on 12000 samples\n",
      "Epoch 1/50\n",
      "48000/48000 [==============================] - 98s 2ms/sample - loss: 0.0325 - val_loss: 0.0073\n",
      "Epoch 2/50\n",
      "48000/48000 [==============================] - 98s 2ms/sample - loss: 0.0067 - val_loss: 0.0053\n",
      "Epoch 3/50\n",
      "48000/48000 [==============================] - 96s 2ms/sample - loss: 0.0047 - val_loss: 0.0055\n",
      "Epoch 4/50\n",
      "48000/48000 [==============================] - 96s 2ms/sample - loss: 0.0038 - val_loss: 0.0032\n",
      "Epoch 5/50\n",
      "48000/48000 [==============================] - 97s 2ms/sample - loss: 0.0032 - val_loss: 0.0026\n",
      "Epoch 6/50\n",
      "48000/48000 [==============================] - 100s 2ms/sample - loss: 0.0028 - val_loss: 0.0032\n",
      "Epoch 7/50\n",
      "48000/48000 [==============================] - 99s 2ms/sample - loss: 0.0025 - val_loss: 0.0022\n",
      "Epoch 8/50\n",
      "48000/48000 [==============================] - 96s 2ms/sample - loss: 0.0023 - val_loss: 0.0026\n",
      "Epoch 9/50\n",
      "48000/48000 [==============================] - 96s 2ms/sample - loss: 0.0022 - val_loss: 0.0019\n",
      "Epoch 10/50\n",
      "48000/48000 [==============================] - 98s 2ms/sample - loss: 0.0020 - val_loss: 0.0020\n",
      "Epoch 11/50\n",
      "48000/48000 [==============================] - 98s 2ms/sample - loss: 0.0019 - val_loss: 0.0018\n",
      "Epoch 12/50\n",
      "48000/48000 [==============================] - 98s 2ms/sample - loss: 0.0018 - val_loss: 0.0018\n",
      "Epoch 13/50\n",
      "48000/48000 [==============================] - 98s 2ms/sample - loss: 0.0018 - val_loss: 0.0018\n",
      "Epoch 14/50\n",
      "48000/48000 [==============================] - 99s 2ms/sample - loss: 0.0017 - val_loss: 0.0018\n",
      "Epoch 15/50\n",
      "48000/48000 [==============================] - 99s 2ms/sample - loss: 0.0016 - val_loss: 0.0016\n",
      "Epoch 16/50\n",
      "48000/48000 [==============================] - 99s 2ms/sample - loss: 0.0016 - val_loss: 0.0016\n",
      "Epoch 17/50\n",
      "48000/48000 [==============================] - 99s 2ms/sample - loss: 0.0015 - val_loss: 0.0015\n",
      "Epoch 18/50\n",
      "48000/48000 [==============================] - 99s 2ms/sample - loss: 0.0015 - val_loss: 0.0019\n",
      "Epoch 19/50\n",
      "48000/48000 [==============================] - 98s 2ms/sample - loss: 0.0015 - val_loss: 0.0015\n",
      "Epoch 20/50\n",
      "48000/48000 [==============================] - 101s 2ms/sample - loss: 0.0014 - val_loss: 0.0016\n",
      "Epoch 21/50\n",
      "48000/48000 [==============================] - 98s 2ms/sample - loss: 0.0014 - val_loss: 0.0015\n",
      "Epoch 22/50\n",
      "48000/48000 [==============================] - 100s 2ms/sample - loss: 0.0014 - val_loss: 0.0015\n",
      "Epoch 23/50\n",
      "48000/48000 [==============================] - 101s 2ms/sample - loss: 0.0013 - val_loss: 0.0013\n",
      "Epoch 24/50\n",
      "48000/48000 [==============================] - 99s 2ms/sample - loss: 0.0013 - val_loss: 0.0013\n",
      "Epoch 25/50\n",
      "48000/48000 [==============================] - 98s 2ms/sample - loss: 0.0013 - val_loss: 0.0013\n",
      "Epoch 26/50\n",
      "48000/48000 [==============================] - 97s 2ms/sample - loss: 0.0013 - val_loss: 0.0013\n",
      "Epoch 27/50\n",
      "48000/48000 [==============================] - 99s 2ms/sample - loss: 0.0012 - val_loss: 0.0012\n",
      "Epoch 28/50\n",
      "48000/48000 [==============================] - 97s 2ms/sample - loss: 0.0012 - val_loss: 0.0012\n",
      "Epoch 29/50\n",
      "48000/48000 [==============================] - 97s 2ms/sample - loss: 0.0012 - val_loss: 0.0013\n",
      "Epoch 30/50\n",
      "48000/48000 [==============================] - 101s 2ms/sample - loss: 0.0012 - val_loss: 0.0012\n",
      "Epoch 31/50\n",
      "48000/48000 [==============================] - 98s 2ms/sample - loss: 0.0012 - val_loss: 0.0013\n",
      "Epoch 32/50\n",
      "48000/48000 [==============================] - 97s 2ms/sample - loss: 0.0012 - val_loss: 0.0012\n",
      "Epoch 33/50\n",
      "48000/48000 [==============================] - 99s 2ms/sample - loss: 0.0012 - val_loss: 0.0012\n",
      "Epoch 34/50\n",
      "48000/48000 [==============================] - 99s 2ms/sample - loss: 0.0011 - val_loss: 0.0012\n",
      "Epoch 35/50\n",
      "48000/48000 [==============================] - 99s 2ms/sample - loss: 0.0011 - val_loss: 0.0012\n",
      "Epoch 36/50\n",
      "48000/48000 [==============================] - 99s 2ms/sample - loss: 0.0011 - val_loss: 0.0012\n",
      "Epoch 37/50\n",
      "48000/48000 [==============================] - 98s 2ms/sample - loss: 0.0011 - val_loss: 0.0014\n",
      "Epoch 38/50\n",
      "48000/48000 [==============================] - 98s 2ms/sample - loss: 0.0011 - val_loss: 0.0011\n",
      "Epoch 39/50\n",
      "48000/48000 [==============================] - 97s 2ms/sample - loss: 0.0011 - val_loss: 0.0011\n",
      "Epoch 40/50\n",
      "48000/48000 [==============================] - 99s 2ms/sample - loss: 0.0011 - val_loss: 0.0012\n",
      "Epoch 41/50\n",
      "48000/48000 [==============================] - 99s 2ms/sample - loss: 0.0011 - val_loss: 0.0011\n",
      "Epoch 42/50\n",
      "48000/48000 [==============================] - 100s 2ms/sample - loss: 0.0011 - val_loss: 0.0011\n",
      "Epoch 43/50\n",
      "48000/48000 [==============================] - 99s 2ms/sample - loss: 0.0010 - val_loss: 0.0011\n",
      "Epoch 44/50\n",
      "48000/48000 [==============================] - 98s 2ms/sample - loss: 0.0010 - val_loss: 0.0011\n",
      "Epoch 45/50\n",
      "48000/48000 [==============================] - 98s 2ms/sample - loss: 0.0010 - val_loss: 0.0012\n",
      "Epoch 46/50\n",
      "48000/48000 [==============================] - 98s 2ms/sample - loss: 0.0010 - val_loss: 0.0012\n",
      "Epoch 47/50\n",
      "48000/48000 [==============================] - 99s 2ms/sample - loss: 0.0010 - val_loss: 0.0011\n",
      "Epoch 48/50\n",
      "48000/48000 [==============================] - 98s 2ms/sample - loss: 0.0010 - val_loss: 0.0011\n",
      "Epoch 49/50\n",
      "48000/48000 [==============================] - 103s 2ms/sample - loss: 9.9997e-04 - val_loss: 0.0011\n",
      "Epoch 50/50\n",
      "48000/48000 [==============================] - 163s 3ms/sample - loss: 9.9279e-04 - val_loss: 9.7219e-04\n"
     ]
    }
   ],
   "source": [
    "autoencoder= gen_autoencoder()\n",
    "autoencoder.summary()\n",
    "autoencoder_train = autoencoder.fit(train_X, train_ground, batch_size=batch_size,epochs=epochs,verbose=1,validation_data=(valid_X, valid_ground))\n"
   ]
  },
  {
   "cell_type": "markdown",
   "metadata": {},
   "source": [
    "## Cheking Results"
   ]
  },
  {
   "cell_type": "code",
   "execution_count": 34,
   "metadata": {},
   "outputs": [
    {
     "data": {
      "image/png": "[encoded data removed]",
      "text/plain": [
       "<Figure size 432x288 with 1 Axes>"
      ]
     },
     "metadata": {
      "needs_background": "light"
     },
     "output_type": "display_data"
    }
   ],
   "source": [
    "loss = autoencoder_train.history['loss']\n",
    "val_loss = autoencoder_train.history['val_loss']\n",
    "epochs = range(50)\n",
    "plt.figure()\n",
    "plt.plot(epochs, loss, 'bo', label='Training loss')\n",
    "plt.plot(epochs, val_loss, 'b', label='Validation loss')\n",
    "plt.title('Training and validation loss')\n",
    "plt.legend()\n",
    "plt.show()\n",
    "autoencoder.save_weights('autoencoder.h5')"
   ]
  },
  {
   "cell_type": "code",
   "execution_count": 60,
   "metadata": {},
   "outputs": [],
   "source": [
    "new=autoencoder.predict(train_data[45].reshape(-1, 28,28, 1))"
   ]
  },
  {
   "cell_type": "code",
   "execution_count": 61,
   "metadata": {},
   "outputs": [
    {
     "name": "stdout",
     "output_type": "stream",
     "text": [
      "Training set (images) shape: (60000, 28, 28, 1)\n",
      "Test set (images) shape: (10000, 28, 28, 1)\n"
     ]
    },
    {
     "data": {
      "text/plain": [
       "Text(0.5, 1.0, '(Label: 0)')"
      ]
     },
     "execution_count": 61,
     "metadata": {},
     "output_type": "execute_result"
    },
    {
     "data": {
      "image/png": "[encoded data removed]",
      "text/plain": [
       "<Figure size 360x360 with 2 Axes>"
      ]
     },
     "metadata": {
      "needs_background": "light"
     },
     "output_type": "display_data"
    }
   ],
   "source": [
    "print(\"Training set (images) shape: {shape}\".format(shape=train_data.shape))\n",
    "print(\"Test set (images) shape: {shape}\".format(shape=test_data.shape))\n",
    "plt.figure(figsize=[5,5])\n",
    "\n",
    "# Display the first image in training data\n",
    "plt.subplot(121)\n",
    "curr_img = np.reshape(train_data[45], (28,28))\n",
    "curr_lbl = train_labels[10]\n",
    "plt.imshow(curr_img, cmap='gray')\n",
    "plt.title(\"(Label: \" + str(curr_lbl) + \")\")\n",
    "\n",
    "# Display the first image in testing data\n",
    "plt.subplot(122)\n",
    "curr_img = np.reshape(new, (28,28))\n",
    "curr_lbl = test_labels[10]\n",
    "plt.imshow(curr_img, cmap='gray')\n",
    "plt.title(\"(Label: \" + str(curr_lbl) + \")\")"
   ]
  },
  {
   "cell_type": "markdown",
   "metadata": {},
   "source": [
    "## Creating Encoder"
   ]
  },
  {
   "cell_type": "code",
   "execution_count": 80,
   "metadata": {},
   "outputs": [],
   "source": [
    "train_X,valid_X,train_label,valid_label = train_test_split(train_data,train_labels,test_size=0.2,random_state=13)\n"
   ]
  },
  {
   "cell_type": "code",
   "execution_count": 81,
   "metadata": {},
   "outputs": [],
   "source": [
    "def gen_encoder(autoencoder):\n",
    "    encoder = tf.keras.Sequential([\n",
    "        tf.keras.layers.InputLayer(input_shape=(28, 28, 1)),\n",
    "        tf.keras.layers.Conv2D(32, (3, 3), activation='relu', padding='same'),\n",
    "        tf.keras.layers.MaxPooling2D(pool_size=(2, 2)),\n",
    "        tf.keras.layers.Conv2D(64, (3, 3), activation='relu', padding='same'),\n",
    "        tf.keras.layers.MaxPooling2D(pool_size=(2, 2)),\n",
    "        tf.keras.layers.Conv2D(128, (3, 3), activation='relu', padding='same'),\n",
    "        tf.keras.layers.Flatten(),\n",
    "        tf.keras.layers.Dense(128, activation='relu'),\n",
    "        tf.keras.layers.Dense(10, activation='softmax'),\n",
    "    ])\n",
    "    \n",
    "    for l1,l2 in zip(encoder.layers[:5],autoencoder.layers[0:5]):\n",
    "        l1.set_weights(l2.get_weights())\n",
    "        \n",
    "    for layer in encoder.layers[0:5]:\n",
    "        layer.trainable = False\n",
    "        \n",
    "    encoder.compile(loss='sparse_categorical_crossentropy', optimizer='adam',metrics=['accuracy'])\n",
    "\n",
    "    \n",
    "    return encoder\n",
    "        "
   ]
  },
  {
   "cell_type": "code",
   "execution_count": 82,
   "metadata": {},
   "outputs": [],
   "source": [
    "encoder=gen_encoder(autoencoder)"
   ]
  },
  {
   "cell_type": "code",
   "execution_count": 83,
   "metadata": {},
   "outputs": [
    {
     "name": "stdout",
     "output_type": "stream",
     "text": [
      "Model: \"sequential_13\"\n",
      "_________________________________________________________________\n",
      "Layer (type)                 Output Shape              Param #   \n",
      "=================================================================\n",
      "conv2d_54 (Conv2D)           (None, 28, 28, 32)        320       \n",
      "_________________________________________________________________\n",
      "max_pooling2d_26 (MaxPooling (None, 14, 14, 32)        0         \n",
      "_________________________________________________________________\n",
      "conv2d_55 (Conv2D)           (None, 14, 14, 64)        18496     \n",
      "_________________________________________________________________\n",
      "max_pooling2d_27 (MaxPooling (None, 7, 7, 64)          0         \n",
      "_________________________________________________________________\n",
      "conv2d_56 (Conv2D)           (None, 7, 7, 128)         73856     \n",
      "_________________________________________________________________\n",
      "flatten_8 (Flatten)          (None, 6272)              0         \n",
      "_________________________________________________________________\n",
      "dense_16 (Dense)             (None, 128)               802944    \n",
      "_________________________________________________________________\n",
      "dense_17 (Dense)             (None, 10)                1290      \n",
      "=================================================================\n",
      "Total params: 896,906\n",
      "Trainable params: 804,234\n",
      "Non-trainable params: 92,672\n",
      "_________________________________________________________________\n"
     ]
    }
   ],
   "source": [
    "encoder.summary()"
   ]
  },
  {
   "cell_type": "markdown",
   "metadata": {},
   "source": [
    "# Traning the Classifier"
   ]
  },
  {
   "cell_type": "code",
   "execution_count": 84,
   "metadata": {},
   "outputs": [
    {
     "name": "stdout",
     "output_type": "stream",
     "text": [
      "Train on 48000 samples, validate on 12000 samples\n",
      "Epoch 1/10\n",
      "48000/48000 [==============================] - 22s 451us/sample - loss: 0.2726 - accuracy: 0.9369 - val_loss: 0.0951 - val_accuracy: 0.9733\n",
      "Epoch 2/10\n",
      "48000/48000 [==============================] - 24s 490us/sample - loss: 0.0687 - accuracy: 0.9811 - val_loss: 0.0688 - val_accuracy: 0.9802\n",
      "Epoch 3/10\n",
      "48000/48000 [==============================] - 24s 497us/sample - loss: 0.0425 - accuracy: 0.9881 - val_loss: 0.0635 - val_accuracy: 0.9806\n",
      "Epoch 4/10\n",
      "48000/48000 [==============================] - 24s 497us/sample - loss: 0.0279 - accuracy: 0.9935 - val_loss: 0.0569 - val_accuracy: 0.9828\n",
      "Epoch 5/10\n",
      "48000/48000 [==============================] - 24s 491us/sample - loss: 0.0182 - accuracy: 0.9960 - val_loss: 0.0566 - val_accuracy: 0.9830\n",
      "Epoch 6/10\n",
      "48000/48000 [==============================] - 22s 460us/sample - loss: 0.0114 - accuracy: 0.9983 - val_loss: 0.0520 - val_accuracy: 0.9850\n",
      "Epoch 7/10\n",
      "48000/48000 [==============================] - 21s 438us/sample - loss: 0.0078 - accuracy: 0.9988 - val_loss: 0.0527 - val_accuracy: 0.9850\n",
      "Epoch 8/10\n",
      "48000/48000 [==============================] - 23s 488us/sample - loss: 0.0052 - accuracy: 0.9994 - val_loss: 0.0571 - val_accuracy: 0.9832\n",
      "Epoch 9/10\n",
      "48000/48000 [==============================] - 23s 488us/sample - loss: 0.0035 - accuracy: 0.9998 - val_loss: 0.0544 - val_accuracy: 0.9848\n",
      "Epoch 10/10\n",
      "48000/48000 [==============================] - 24s 494us/sample - loss: 0.0025 - accuracy: 0.9999 - val_loss: 0.0540 - val_accuracy: 0.9857\n"
     ]
    }
   ],
   "source": [
    "classify_train = encoder.fit(train_X, train_label, batch_size=64,epochs=10,verbose=1,validation_data=(valid_X, valid_label))"
   ]
  },
  {
   "cell_type": "code",
   "execution_count": 85,
   "metadata": {},
   "outputs": [],
   "source": [
    "encoder.save_weights('autoencoder_classification.h5')\n"
   ]
  },
  {
   "cell_type": "code",
   "execution_count": 87,
   "metadata": {},
   "outputs": [
    {
     "data": {
      "image/png": "[encoded data removed]",
      "text/plain": [
       "<Figure size 432x288 with 1 Axes>"
      ]
     },
     "metadata": {
      "needs_background": "light"
     },
     "output_type": "display_data"
    },
    {
     "data": {
      "image/png": "[encoded data removed]",
      "text/plain": [
       "<Figure size 432x288 with 1 Axes>"
      ]
     },
     "metadata": {
      "needs_background": "light"
     },
     "output_type": "display_data"
    }
   ],
   "source": [
    "accuracy = classify_train.history['accuracy']\n",
    "val_accuracy = classify_train.history['val_accuracy']\n",
    "loss = classify_train.history['loss']\n",
    "val_loss = classify_train.history['val_loss']\n",
    "epochs = range(len(accuracy))\n",
    "plt.plot(epochs, accuracy, 'bo', label='Training accuracy')\n",
    "plt.plot(epochs, val_accuracy, 'b', label='Validation accuracy')\n",
    "plt.title('Training and validation accuracy')\n",
    "plt.legend()\n",
    "plt.figure()\n",
    "plt.plot(epochs, loss, 'bo', label='Training loss')\n",
    "plt.plot(epochs, val_loss, 'b', label='Validation loss')\n",
    "plt.title('Training and validation loss')\n",
    "plt.legend()\n",
    "plt.show()"
   ]
  },
  {
   "cell_type": "code",
   "execution_count": null,
   "metadata": {},
   "outputs": [],
   "source": []
  }
 ],
 "metadata": {
  "kernelspec": {
   "display_name": "Python 3",
   "language": "python",
   "name": "python3"
  },
  "language_info": {
   "codemirror_mode": {
    "name": "ipython",
    "version": 3
   },
   "file_extension": ".py",
   "mimetype": "text/x-python",
   "name": "python",
   "nbconvert_exporter": "python",
   "pygments_lexer": "ipython3",
   "version": "3.6.8"
  }
 },
 "nbformat": 4,
 "nbformat_minor": 4
}
